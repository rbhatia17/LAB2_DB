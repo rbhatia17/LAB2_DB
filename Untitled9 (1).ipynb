{
 "cells": [
  {
   "cell_type": "code",
   "execution_count": 1,
   "metadata": {
    "collapsed": true
   },
   "outputs": [],
   "source": [
    "import pandas as pd"
   ]
  },
  {
   "cell_type": "code",
   "execution_count": null,
   "metadata": {
    "scrolled": true
   },
   "outputs": [],
   "source": []
  },
  {
   "cell_type": "code",
   "execution_count": 3,
   "metadata": {
    "collapsed": true
   },
   "outputs": [],
   "source": [
    "import csv"
   ]
  },
  {
   "cell_type": "code",
   "execution_count": 4,
   "metadata": {},
   "outputs": [
    {
     "name": "stdout",
     "output_type": "stream",
     "text": [
      "/Users/rachitabhatia/Desktop\n"
     ]
    }
   ],
   "source": [
    "cd desktop"
   ]
  },
  {
   "cell_type": "code",
   "execution_count": 5,
   "metadata": {},
   "outputs": [
    {
     "name": "stdout",
     "output_type": "stream",
     "text": [
      "Data.csv                  \u001b[31mHomework.xls\u001b[m\u001b[m*             \u001b[31mSheet1.pdf\u001b[m\u001b[m*\r\n",
      "\u001b[34mFall 2017\u001b[m\u001b[m/                M!.jpg                    ~$Case 1.docx\r\n",
      "\u001b[31mHW1.pdf\u001b[m\u001b[m*                  RachitaBhatia_resume.pdf  ~$se 1 strat.docx\r\n"
     ]
    }
   ],
   "source": [
    "ls"
   ]
  },
  {
   "cell_type": "code",
   "execution_count": 1,
   "metadata": {
    "collapsed": true
   },
   "outputs": [],
   "source": [
    "#coverting a csv file into a dataframe\n",
    "lab2= pd.read_csv('Data.csv')"
   ]
  },
  {
   "cell_type": "code",
   "execution_count": 7,
   "metadata": {
    "collapsed": true
   },
   "outputs": [],
   "source": [
    "#skipping the first empty row\n",
    "with open(\"Data.csv\",'r') as f, open(\"lab2.csv\",'w') as f1:\n",
    "    next(f) # skip header line\n",
    "    for line in f:\n",
    "        f1.write(line)"
   ]
  },
  {
   "cell_type": "code",
   "execution_count": 8,
   "metadata": {
    "collapsed": true
   },
   "outputs": [],
   "source": [
    "lab2= pd.read_csv('lab2.csv')"
   ]
  },
  {
   "cell_type": "code",
   "execution_count": 9,
   "metadata": {
    "collapsed": true
   },
   "outputs": [],
   "source": [
    "#skipping the row with the information about columns\n",
    "lab2 = lab2.dropna(subset=['Entity'], how='any')"
   ]
  },
  {
   "cell_type": "code",
   "execution_count": 10,
   "metadata": {
    "collapsed": true
   },
   "outputs": [],
   "source": [
    "#Selecting only the columns that are required\n",
    "lab2= lab2[['Entity','YEAR','records lost','ORGANISATION','METHOD OF LEAK','DATA SENSITIVITY']]\n",
    "lab2.columns = ['ENTITY','YEAR','RECORDS LOST','ORGANISATION','METHOD OF LEAK','DATA SENSITIVITY']"
   ]
  },
  {
   "cell_type": "code",
   "execution_count": null,
   "metadata": {},
   "outputs": [],
   "source": []
  },
  {
   "cell_type": "code",
   "execution_count": null,
   "metadata": {},
   "outputs": [],
   "source": []
  },
  {
   "cell_type": "code",
   "execution_count": 14,
   "metadata": {},
   "outputs": [
    {
     "data": {
      "text/plain": [
       "ENTITY              object\n",
       "YEAR                object\n",
       "RECORDS LOST        object\n",
       "ORGANISATION        object\n",
       "METHOD OF LEAK      object\n",
       "DATA SENSITIVITY    object\n",
       "dtype: object"
      ]
     },
     "execution_count": 14,
     "metadata": {},
     "output_type": "execute_result"
    }
   ],
   "source": [
    "#displaying the data types\n",
    "lab2.dtypes"
   ]
  },
  {
   "cell_type": "code",
   "execution_count": null,
   "metadata": {},
   "outputs": [],
   "source": []
  },
  {
   "cell_type": "code",
   "execution_count": 16,
   "metadata": {
    "collapsed": true
   },
   "outputs": [],
   "source": [
    "#changing the year values to the original year\n",
    "value_year = {\"YEAR\":{0:2004,1:2005,2:2006,3:2007,4:2008,5:2009,6:2010,7:2011,8:2012,9:2013,10:2014,11:2015,12:2016,13:2017,14:2018}}"
   ]
  },
  {
   "cell_type": "code",
   "execution_count": 17,
   "metadata": {
    "collapsed": true
   },
   "outputs": [],
   "source": [
    "lb2=lab2.replace(value_year)"
   ]
  },
  {
   "cell_type": "code",
   "execution_count": null,
   "metadata": {},
   "outputs": [],
   "source": []
  },
  {
   "cell_type": "code",
   "execution_count": 19,
   "metadata": {
    "collapsed": true
   },
   "outputs": [],
   "source": [
    "value_year = {\"YEAR\":{0:2004,1:2005,2:2006,3:2007,4:2008,5:2009,6:2010,7:2011,8:2012,9:2013,10:2014,11:2015,12:2016,13:2017,14:2018}}"
   ]
  },
  {
   "cell_type": "code",
   "execution_count": 20,
   "metadata": {
    "collapsed": true
   },
   "outputs": [],
   "source": [
    "lb2_db=lab2.replace(value_year)"
   ]
  },
  {
   "cell_type": "code",
   "execution_count": null,
   "metadata": {},
   "outputs": [],
   "source": []
  },
  {
   "cell_type": "code",
   "execution_count": null,
   "metadata": {},
   "outputs": [],
   "source": []
  },
  {
   "cell_type": "code",
   "execution_count": 24,
   "metadata": {
    "collapsed": true
   },
   "outputs": [],
   "source": [
    "#changing the values of sensitivity to actual data\n",
    "lb2_db.loc[lb2_db['DATA SENSITIVITY'] == '1', 'DATA SENSITIVITY'] = 'Just email address/Online information'\n",
    "lb2_db.loc[lb2_db['DATA SENSITIVITY'] == '20', 'DATA SENSITIVITY'] = 'SSN/Personal details'\n",
    "lb2_db.loc[lb2_db['DATA SENSITIVITY'] == '300', 'DATA SENSITIVITY'] = 'Credit card information'\n",
    "lb2_db.loc[lb2_db['DATA SENSITIVITY'] == '4000', 'DATA SENSITIVITY'] = 'Email password/Health records'\n",
    "lb2_db.loc[lb2_db['DATA SENSITIVITY'] == '50000', 'DATA SENSITIVITY'] = 'Full bank account details'\n"
   ]
  },
  {
   "cell_type": "code",
   "execution_count": null,
   "metadata": {},
   "outputs": [],
   "source": []
  },
  {
   "cell_type": "code",
   "execution_count": 26,
   "metadata": {
    "collapsed": true
   },
   "outputs": [],
   "source": [
    "#Saving the updated file as a CSV file\n",
    "lb2_db.to_csv('lb2_2017.csv')"
   ]
  },
  {
   "cell_type": "code",
   "execution_count": 27,
   "metadata": {
    "collapsed": true
   },
   "outputs": [],
   "source": [
    "lb2_2015 = pd.read_csv('Data_2015.csv')"
   ]
  },
  {
   "cell_type": "code",
   "execution_count": 28,
   "metadata": {
    "collapsed": true
   },
   "outputs": [],
   "source": [
    "with open(\"Data_2015.csv\",'r') as f, open(\"lb2_2015.csv\",'w') as f1:\n",
    "    next(f) # skip header line\n",
    "    for line in f:\n",
    "        f1.write(line)"
   ]
  },
  {
   "cell_type": "code",
   "execution_count": 29,
   "metadata": {
    "collapsed": true
   },
   "outputs": [],
   "source": [
    "lb2_2015 = pd.read_csv('lb2_2015.csv')"
   ]
  },
  {
   "cell_type": "code",
   "execution_count": 30,
   "metadata": {
    "collapsed": true
   },
   "outputs": [],
   "source": [
    "lb2_2015 = lb2_2015.dropna(subset=['Entity'], how='any')"
   ]
  },
  {
   "cell_type": "code",
   "execution_count": null,
   "metadata": {},
   "outputs": [],
   "source": []
  },
  {
   "cell_type": "code",
   "execution_count": 34,
   "metadata": {
    "collapsed": true
   },
   "outputs": [],
   "source": [
    "lb2_2015= lb2_2015[['Entity','YEAR','records lost','ORGANISATION','METHOD OF LEAK','DATA SENSITIVITY']]\n",
    "lb2_2015.columns = ['ENTITY','YEAR','RECORDS LOST','ORGANISATION','METHOD OF LEAK','DATA SENSITIVITY']"
   ]
  },
  {
   "cell_type": "code",
   "execution_count": null,
   "metadata": {},
   "outputs": [],
   "source": []
  },
  {
   "cell_type": "code",
   "execution_count": 39,
   "metadata": {
    "collapsed": true
   },
   "outputs": [],
   "source": [
    "value_year1 = {\"YEAR\":{0:2004,1:2005,2:2006,3:2007,4:2008,5:2009,6:2010,7:2011,8:2012,9:2013,10:2014,11:2015,12:2016,13:2017,14:2018}}"
   ]
  },
  {
   "cell_type": "code",
   "execution_count": 40,
   "metadata": {
    "collapsed": true
   },
   "outputs": [],
   "source": [
    "lb2_db2015=lb2_2015.replace(value_year)"
   ]
  },
  {
   "cell_type": "code",
   "execution_count": null,
   "metadata": {},
   "outputs": [],
   "source": []
  },
  {
   "cell_type": "code",
   "execution_count": 43,
   "metadata": {
    "collapsed": true
   },
   "outputs": [],
   "source": [
    "lb2_2015 = pd.read_csv('lb2_2015.csv')"
   ]
  },
  {
   "cell_type": "code",
   "execution_count": 44,
   "metadata": {
    "collapsed": true
   },
   "outputs": [],
   "source": [
    "lb2_2015 = lb2_2015.dropna(subset=['Entity'], how='any')"
   ]
  },
  {
   "cell_type": "code",
   "execution_count": 46,
   "metadata": {},
   "outputs": [
    {
     "data": {
      "text/plain": [
       "Entity                         object\n",
       "alternative name               object\n",
       "story                          object\n",
       "YEAR                           object\n",
       "records lost                   object\n",
       "ORGANISATION                   object\n",
       "METHOD OF LEAK                 object\n",
       "interesting story              object\n",
       "NO OF RECORDS STOLEN           object\n",
       "DATA SENSITIVITY               object\n",
       "UNUSED                        float64\n",
       "UNUSED.1                      float64\n",
       "Exclude                        object\n",
       "Unnamed: 13                   float64\n",
       "1st source link                object\n",
       "2nd source link                object\n",
       "3rd source                     object\n",
       "source name                    object\n",
       "UNUSED.2                       object\n",
       "UNUSED.3                      float64\n",
       "UNUSED.4                      float64\n",
       "UNUSED.5                      float64\n",
       "UNUSED.6                      float64\n",
       "UNUSED.7                      float64\n",
       "Unnamed: 24                   float64\n",
       "Link to individual study      float64\n",
       "Link to individual study.1    float64\n",
       "Link to individual study.2    float64\n",
       "Link to individual study.3    float64\n",
       "Link to individual study.4    float64\n",
       "Link to individual study.5    float64\n",
       "Link to individual study.6    float64\n",
       "Link to individual study.7    float64\n",
       "Link to individual study.8    float64\n",
       "Link to individual study.9    float64\n",
       "dtype: object"
      ]
     },
     "execution_count": 46,
     "metadata": {},
     "output_type": "execute_result"
    }
   ],
   "source": [
    "lb2_2015.dtypes"
   ]
  },
  {
   "cell_type": "code",
   "execution_count": 47,
   "metadata": {
    "collapsed": true
   },
   "outputs": [],
   "source": [
    "lb2_2015= lb2_2015[['Entity','YEAR','records lost','ORGANISATION','METHOD OF LEAK','DATA SENSITIVITY']]\n",
    "lb2_2015.columns = ['ENTITY','YEAR','RECORDS LOST','ORGANISATION','METHOD OF LEAK','DATA SENSITIVITY']"
   ]
  },
  {
   "cell_type": "code",
   "execution_count": 48,
   "metadata": {},
   "outputs": [
    {
     "data": {
      "text/plain": [
       "ENTITY              object\n",
       "YEAR                object\n",
       "RECORDS LOST        object\n",
       "ORGANISATION        object\n",
       "METHOD OF LEAK      object\n",
       "DATA SENSITIVITY    object\n",
       "dtype: object"
      ]
     },
     "execution_count": 48,
     "metadata": {},
     "output_type": "execute_result"
    }
   ],
   "source": [
    "lb2_2015.dtypes"
   ]
  },
  {
   "cell_type": "code",
   "execution_count": null,
   "metadata": {},
   "outputs": [],
   "source": []
  },
  {
   "cell_type": "markdown",
   "metadata": {},
   "source": [
    "lb2_2015"
   ]
  },
  {
   "cell_type": "code",
   "execution_count": null,
   "metadata": {},
   "outputs": [],
   "source": []
  },
  {
   "cell_type": "code",
   "execution_count": 51,
   "metadata": {
    "collapsed": true
   },
   "outputs": [],
   "source": [
    "lb2_2015.loc[lb2_2015['DATA SENSITIVITY'] == '1', 'DATA SENSITIVITY'] = 'Just email address/Online information'\n",
    "lb2_2015.loc[lb2_2015['DATA SENSITIVITY'] == '20', 'DATA SENSITIVITY'] = 'SSN/Personal details'\n",
    "lb2_2015.loc[lb2_2015['DATA SENSITIVITY'] == '300', 'DATA SENSITIVITY'] = 'Credit card information'\n",
    "lb2_2015.loc[lb2_2015['DATA SENSITIVITY'] == '4000', 'DATA SENSITIVITY'] = 'Email password/Health records'\n",
    "lb2_2015.loc[lb2_2015['DATA SENSITIVITY'] == '50000', 'DATA SENSITIVITY'] = 'Full bank account details'\n"
   ]
  },
  {
   "cell_type": "code",
   "execution_count": null,
   "metadata": {},
   "outputs": [],
   "source": []
  },
  {
   "cell_type": "code",
   "execution_count": 53,
   "metadata": {
    "collapsed": true
   },
   "outputs": [],
   "source": [
    "lb2_2015.loc[lb2_2015['YEAR'] == '0', 'YEAR'] = 2004\n",
    "lb2_2015.loc[lb2_2015['YEAR'] == '1', 'YEAR'] = 2005\n",
    "lb2_2015.loc[lb2_2015['YEAR'] == '2', 'YEAR'] = 2006\n",
    "lb2_2015.loc[lb2_2015['YEAR'] == '3', 'YEAR'] = 2007\n",
    "lb2_2015.loc[lb2_2015['YEAR'] == '4', 'YEAR'] = 2008\n",
    "lb2_2015.loc[lb2_2015['YEAR'] == '5', 'YEAR'] = 2009\n",
    "lb2_2015.loc[lb2_2015['YEAR'] == '6', 'YEAR'] = 2010\n",
    "lb2_2015.loc[lb2_2015['YEAR'] == '7', 'YEAR'] = 2011\n",
    "lb2_2015.loc[lb2_2015['YEAR'] == '8', 'YEAR'] = 2012\n",
    "lb2_2015.loc[lb2_2015['YEAR'] == '9', 'YEAR'] = 2013\n",
    "lb2_2015.loc[lb2_2015['YEAR'] == '10', 'YEAR'] = 2014\n",
    "lb2_2015.loc[lb2_2015['YEAR'] == '11', 'YEAR'] = 2015\n",
    "lb2_2015.loc[lb2_2015['YEAR'] == '12', 'YEAR'] = 2016\n",
    "lb2_2015.loc[lb2_2015['YEAR'] == '13', 'YEAR'] = 2017\n",
    "lb2_2015.loc[lb2_2015['YEAR'] == '14', 'YEAR'] = 'latest'"
   ]
  },
  {
   "cell_type": "code",
   "execution_count": null,
   "metadata": {},
   "outputs": [],
   "source": []
  },
  {
   "cell_type": "code",
   "execution_count": 55,
   "metadata": {
    "collapsed": true
   },
   "outputs": [],
   "source": [
    "#removing the rows with no value for the year column\n",
    "lb2_2015 = lb2_2015.dropna(axis=0, subset=['YEAR'], how='any')"
   ]
  },
  {
   "cell_type": "code",
   "execution_count": null,
   "metadata": {},
   "outputs": [],
   "source": []
  },
  {
   "cell_type": "code",
   "execution_count": 57,
   "metadata": {
    "collapsed": true
   },
   "outputs": [],
   "source": [
    "lb2_2015.to_csv('Data_2015.csv')"
   ]
  },
  {
   "cell_type": "code",
   "execution_count": 58,
   "metadata": {
    "collapsed": true
   },
   "outputs": [],
   "source": [
    "lb2_2013 = pd.read_csv('Data_2013.csv')"
   ]
  },
  {
   "cell_type": "code",
   "execution_count": 59,
   "metadata": {
    "collapsed": true
   },
   "outputs": [],
   "source": [
    "with open(\"Data_2013.csv\",'r') as f, open(\"lb2_2013.csv\",'w') as f1:\n",
    "    next(f) # skip header line\n",
    "    for line in f:\n",
    "        f1.write(line)"
   ]
  },
  {
   "cell_type": "code",
   "execution_count": 60,
   "metadata": {
    "collapsed": true
   },
   "outputs": [],
   "source": [
    "lb2_2013 = pd.read_csv('lb2_2013.csv')"
   ]
  },
  {
   "cell_type": "code",
   "execution_count": 61,
   "metadata": {
    "collapsed": true
   },
   "outputs": [],
   "source": [
    "lb2_2013 = lb2_2013.dropna(subset=['Entity'], how='any')"
   ]
  },
  {
   "cell_type": "code",
   "execution_count": 62,
   "metadata": {},
   "outputs": [
    {
     "data": {
      "text/plain": [
       "Entity                         object\n",
       "alternative name               object\n",
       "story                          object\n",
       "YEAR                           object\n",
       "records lost                   object\n",
       "ORGANISATION                   object\n",
       "METHOD OF LEAK                 object\n",
       "interesting story              object\n",
       "NO OF RECORDS STOLEN           object\n",
       "DATA SENSITIVITY               object\n",
       "UNUSED                        float64\n",
       "UNUSED.1                      float64\n",
       "Exclude                        object\n",
       "Unnamed: 13                   float64\n",
       "1st source link                object\n",
       "2nd source link                object\n",
       "3rd source                     object\n",
       "source name                    object\n",
       "UNUSED.2                       object\n",
       "UNUSED.3                      float64\n",
       "UNUSED.4                      float64\n",
       "UNUSED.5                      float64\n",
       "UNUSED.6                      float64\n",
       "UNUSED.7                      float64\n",
       "Unnamed: 24                   float64\n",
       "Link to individual study      float64\n",
       "Link to individual study.1    float64\n",
       "Link to individual study.2    float64\n",
       "Link to individual study.3    float64\n",
       "Link to individual study.4    float64\n",
       "Link to individual study.5    float64\n",
       "Link to individual study.6    float64\n",
       "Link to individual study.7    float64\n",
       "Link to individual study.8    float64\n",
       "Link to individual study.9    float64\n",
       "dtype: object"
      ]
     },
     "execution_count": 62,
     "metadata": {},
     "output_type": "execute_result"
    }
   ],
   "source": [
    "lb2_2013.dtypes"
   ]
  },
  {
   "cell_type": "code",
   "execution_count": 63,
   "metadata": {
    "collapsed": true
   },
   "outputs": [],
   "source": [
    "lb2_2013= lb2_2013[['Entity','YEAR','records lost','ORGANISATION','METHOD OF LEAK','DATA SENSITIVITY']]\n",
    "lb2_2013.columns = ['ENTITY','YEAR','RECORDS LOST','ORGANISATION','METHOD OF LEAK','DATA SENSITIVITY']"
   ]
  },
  {
   "cell_type": "code",
   "execution_count": null,
   "metadata": {},
   "outputs": [],
   "source": []
  },
  {
   "cell_type": "code",
   "execution_count": 65,
   "metadata": {},
   "outputs": [
    {
     "data": {
      "text/plain": [
       "ENTITY              object\n",
       "YEAR                object\n",
       "RECORDS LOST        object\n",
       "ORGANISATION        object\n",
       "METHOD OF LEAK      object\n",
       "DATA SENSITIVITY    object\n",
       "dtype: object"
      ]
     },
     "execution_count": 65,
     "metadata": {},
     "output_type": "execute_result"
    }
   ],
   "source": [
    "lb2_2013.dtypes"
   ]
  },
  {
   "cell_type": "code",
   "execution_count": 66,
   "metadata": {
    "collapsed": true
   },
   "outputs": [],
   "source": [
    "lb2_2013.loc[lb2_2013['YEAR'] == '0', 'YEAR'] = 2004\n",
    "lb2_2013.loc[lb2_2013['YEAR'] == '1', 'YEAR'] = 2005\n",
    "lb2_2013.loc[lb2_2013['YEAR'] == '2', 'YEAR'] = 2006\n",
    "lb2_2013.loc[lb2_2013['YEAR'] == '3', 'YEAR'] = 2007\n",
    "lb2_2013.loc[lb2_2013['YEAR'] == '4', 'YEAR'] = 2008\n",
    "lb2_2013.loc[lb2_2013['YEAR'] == '5', 'YEAR'] = 2009\n",
    "lb2_2013.loc[lb2_2013['YEAR'] == '6', 'YEAR'] = 2010\n",
    "lb2_2013.loc[lb2_2013['YEAR'] == '7', 'YEAR'] = 2011\n",
    "lb2_2013.loc[lb2_2013['YEAR'] == '8', 'YEAR'] = 2012\n",
    "lb2_2013.loc[lb2_2013['YEAR'] == '9', 'YEAR'] = 2013\n",
    "lb2_2013.loc[lb2_2013['YEAR'] == '10', 'YEAR'] = 2014\n",
    "lb2_2013.loc[lb2_2013['YEAR'] == '11', 'YEAR'] = 2015\n",
    "lb2_2013.loc[lb2_2013['YEAR'] == '12', 'YEAR'] = 2016\n",
    "lb2_2013.loc[lb2_2013['YEAR'] == '13', 'YEAR'] = 2017\n",
    "lb2_2013.loc[lb2_2013['YEAR'] == '14', 'YEAR'] = 'latest'"
   ]
  },
  {
   "cell_type": "code",
   "execution_count": null,
   "metadata": {},
   "outputs": [],
   "source": []
  },
  {
   "cell_type": "code",
   "execution_count": 68,
   "metadata": {
    "collapsed": true
   },
   "outputs": [],
   "source": [
    "lb2_2013.loc[lb2_2013['DATA SENSITIVITY'] == '1', 'DATA SENSITIVITY'] = 'Just email address/Online information'\n",
    "lb2_2013.loc[lb2_2013['DATA SENSITIVITY'] == '20', 'DATA SENSITIVITY'] = 'SSN/Personal details'\n",
    "lb2_2013.loc[lb2_2013['DATA SENSITIVITY'] == '300', 'DATA SENSITIVITY'] = 'Credit card information'\n",
    "lb2_2013.loc[lb2_2013['DATA SENSITIVITY'] == '4000', 'DATA SENSITIVITY'] = 'Email password/Health records'\n",
    "lb2_2013.loc[lb2_2013['DATA SENSITIVITY'] == '50000', 'DATA SENSITIVITY'] = 'Full bank account details'"
   ]
  },
  {
   "cell_type": "code",
   "execution_count": null,
   "metadata": {},
   "outputs": [],
   "source": []
  },
  {
   "cell_type": "code",
   "execution_count": 70,
   "metadata": {
    "collapsed": true
   },
   "outputs": [],
   "source": [
    "lb2_2013.to_csv('Data_2013.csv')"
   ]
  },
  {
   "cell_type": "code",
   "execution_count": null,
   "metadata": {
    "collapsed": true
   },
   "outputs": [],
   "source": []
  }
 ],
 "metadata": {
  "kernelspec": {
   "display_name": "Python 3",
   "language": "python",
   "name": "python3"
  },
  "language_info": {
   "codemirror_mode": {
    "name": "ipython",
    "version": 3
   },
   "file_extension": ".py",
   "mimetype": "text/x-python",
   "name": "python",
   "nbconvert_exporter": "python",
   "pygments_lexer": "ipython3",
   "version": "3.6.1"
  }
 },
 "nbformat": 4,
 "nbformat_minor": 2
}
